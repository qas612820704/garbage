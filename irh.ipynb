{
 "cells": [
  {
   "cell_type": "code",
   "execution_count": 4,
   "metadata": {
    "collapsed": true
   },
   "outputs": [],
   "source": [
    "import json"
   ]
  },
  {
   "cell_type": "code",
   "execution_count": 2,
   "metadata": {
    "collapsed": false
   },
   "outputs": [],
   "source": [
    "exmaple_data = {\n",
    "    'hi': {\n",
    "        '0': 123,\n",
    "        '10': 456,\n",
    "    },\n",
    "    'yo': {\n",
    "        '11': 456,\n",
    "        '65': 789,\n",
    "    }\n",
    "}"
   ]
  },
  {
   "cell_type": "code",
   "execution_count": 9,
   "metadata": {
    "collapsed": false
   },
   "outputs": [
    {
     "name": "stdout",
     "output_type": "stream",
     "text": [
      "hi {'0': 123, '10': 456}\n",
      "yo {'11': 456, '65': 789}\n"
     ]
    }
   ],
   "source": [
    "for key, value in exmaple_data.items():\n",
    "    print(key, value)"
   ]
  },
  {
   "cell_type": "code",
   "execution_count": 14,
   "metadata": {
    "collapsed": false
   },
   "outputs": [],
   "source": [
    "_id = 0\n",
    "hashtable = {}"
   ]
  },
  {
   "cell_type": "code",
   "execution_count": 18,
   "metadata": {
    "collapsed": false
   },
   "outputs": [],
   "source": [
    "for key, value in exmaple_data.items():\n",
    "    f_name = \"{0}.json\".format(_id)\n",
    "    with open(f_name, 'w+') as f:\n",
    "        json.dump(value, f)\n",
    "    \n",
    "    hashtable[_id] = key\n",
    "    _id += 1\n",
    "\n",
    "with open('hastable.json', 'w+') as f:\n",
    "    json.dump(hashtable, f)"
   ]
  }
 ],
 "metadata": {
  "kernelspec": {
   "display_name": "Python 3",
   "language": "python",
   "name": "python3"
  },
  "language_info": {
   "codemirror_mode": {
    "name": "ipython",
    "version": 3
   },
   "file_extension": ".py",
   "mimetype": "text/x-python",
   "name": "python",
   "nbconvert_exporter": "python",
   "pygments_lexer": "ipython3",
   "version": "3.5.2"
  }
 },
 "nbformat": 4,
 "nbformat_minor": 1
}
