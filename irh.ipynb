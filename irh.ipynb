{
 "cells": [
  {
   "cell_type": "code",
   "execution_count": 1,
   "metadata": {
    "collapsed": true
   },
   "outputs": [],
   "source": [
    "import ijson\n",
    "import json\n",
    "import os\n",
    "SPLIT_DIR = 'split'"
   ]
  },
  {
   "cell_type": "code",
   "execution_count": 2,
   "metadata": {
    "collapsed": true
   },
   "outputs": [],
   "source": [
    "if not os.path.isdir(SPLIT_DIR):\n",
    "    os.mkdir(SPLIT_DIR)"
   ]
  },
  {
   "cell_type": "code",
   "execution_count": 3,
   "metadata": {
    "collapsed": true
   },
   "outputs": [],
   "source": [
    "exmaple_data = {\n",
    "    'hi': {\n",
    "        '0': 123,\n",
    "        '10': 456,\n",
    "    },\n",
    "    'yo': {\n",
    "        '11': 456,\n",
    "        '65': 789,\n",
    "    }\n",
    "}"
   ]
  },
  {
   "cell_type": "code",
   "execution_count": 4,
   "metadata": {
    "collapsed": false
   },
   "outputs": [],
   "source": [
    "with open('example.json', 'w+') as f:\n",
    "    json.dump(exmaple_data, f)"
   ]
  },
  {
   "cell_type": "code",
   "execution_count": 5,
   "metadata": {
    "collapsed": false
   },
   "outputs": [],
   "source": [
    "def saveDictToFile(data, f_name):\n",
    "    f_name = \"{0}/{1}.json\".format(\n",
    "        SPLIT_DIR,\n",
    "        f_name.replace('/', '_')\n",
    "    )\n",
    "    with open(f_name, 'w+') as f:\n",
    "        json.dump(data, f)"
   ]
  },
  {
   "cell_type": "code",
   "execution_count": 6,
   "metadata": {
    "collapsed": true
   },
   "outputs": [],
   "source": [
    "# 改檔名存到 split/heloo_hi.json\n",
    "saveDictToFile(exmaple_data, 'heloo/hi')"
   ]
  },
  {
   "cell_type": "code",
   "execution_count": 7,
   "metadata": {
    "collapsed": false
   },
   "outputs": [
    {
     "name": "stdout",
     "output_type": "stream",
     "text": [
      "hi {}\n",
      "yo {'0': 123, '10': 456}\n",
      "yo {'65': 789, '11': 456}\n"
     ]
    }
   ],
   "source": [
    "with open('example.json', 'r') as f:\n",
    "    now_word = \"\"\n",
    "    splited_data = {}\n",
    "\n",
    "    for prefix, event, value in ijson.parse(f):\n",
    "        if event is not \"number\":\n",
    "            continue\n",
    "        \n",
    "        word, p_id = prefix.split('.')\n",
    "\n",
    "        if word != now_word:\n",
    "            print (word, splited_data)\n",
    "            splited_data = {}\n",
    "            now_word = word\n",
    "        \n",
    "        splited_data[p_id] = value\n",
    "print (word, splited_data)"
   ]
  },
  {
   "cell_type": "code",
   "execution_count": 8,
   "metadata": {
    "collapsed": false
   },
   "outputs": [],
   "source": [
    "# 處理 10 筆\n",
    "with open('./inverted_index.json', 'r') as f:\n",
    "    now_word = \"\"\n",
    "    data = {}\n",
    "    counter = 0\n",
    "    for prefix, event, value in ijson.parse(f):\n",
    "        if event is not \"number\":\n",
    "            continue\n",
    "        \n",
    "        word, p_id = prefix.split('.')\n",
    "\n",
    "        if word != now_word:\n",
    "            counter += 1\n",
    "            saveDictToFile(data, word)\n",
    "            splited_data = {}\n",
    "            now_word = word\n",
    "        \n",
    "        data[p_id] = value\n",
    "        \n",
    "        if counter > 10:\n",
    "            break\n",
    "\n",
    "# 讀完最後一次存檔\n",
    "saveDictToFile(data, word)"
   ]
  },
  {
   "cell_type": "code",
   "execution_count": null,
   "metadata": {
    "collapsed": true
   },
   "outputs": [],
   "source": [
    "with open('./inverted_index.json', 'r') as f:\n",
    "    now_word = \"\"\n",
    "    data = {}\n",
    "    for prefix, event, value in ijson.parse(f):\n",
    "        if event is not \"number\":\n",
    "            continue\n",
    "        \n",
    "        word, p_id = prefix.split('.')\n",
    "\n",
    "        if word != now_word:\n",
    "            saveDictToFile(data, word)\n",
    "            splited_data = {}\n",
    "            now_word = word\n",
    "        \n",
    "        data[p_id] = value\n",
    "        \n",
    "\n",
    "# 讀完最後一次存檔\n",
    "saveDictToFile(data, word)"
   ]
  }
 ],
 "metadata": {
  "kernelspec": {
   "display_name": "Python 3",
   "language": "python",
   "name": "python3"
  },
  "language_info": {
   "codemirror_mode": {
    "name": "ipython",
    "version": 3
   },
   "file_extension": ".py",
   "mimetype": "text/x-python",
   "name": "python",
   "nbconvert_exporter": "python",
   "pygments_lexer": "ipython3",
   "version": "3.5.2"
  }
 },
 "nbformat": 4,
 "nbformat_minor": 1
}
